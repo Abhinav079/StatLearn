{
 "cells": [
  {
   "cell_type": "markdown",
   "id": "a3defae0",
   "metadata": {},
   "source": [
    "<b><i>Day 2: Quartiles"
   ]
  },
  {
   "cell_type": "code",
   "execution_count": null,
   "id": "779bf1be",
   "metadata": {},
   "outputs": [],
   "source": [
    "\n",
    "import math\n",
    "import os\n",
    "import random\n",
    "import re\n",
    "import sys\n",
    "\n",
    "\n",
    "# Complete the 'quartiles' function below.\n",
    "# The function is expected to return an INTEGER_ARRAY.\n",
    "# The function accepts INTEGER_ARRAY arr as parameter.\n",
    "\n",
    "def quartiles(arr):\n",
    "    arr = sorted(arr)\n",
    "    n = len(arr)\n",
    "    q2 = int((arr[(n-1)//2] + arr[n//2]) / 2)\n",
    "    if n % 2 == 0:\n",
    "        l = arr[:n//2]\n",
    "        u = arr[n//2:]\n",
    "    else:\n",
    "        l = arr[:n//2]\n",
    "        u = arr[n//2+1:]\n",
    "    q1 = int((l[(len(l)-1)//2] + l[len(l)//2]) / 2)\n",
    "    q3 = int((u[(len(u)-1)//2] + u[len(u)//2]) / 2)\n",
    "    arr=[q1,q2,q3]\n",
    "    return arr\n",
    "    # Write your code here\n",
    "\n",
    "if __name__ == '__main__':\n",
    "    fptr = open(os.environ['OUTPUT_PATH'], 'w')\n",
    "\n",
    "    n = int(input().strip())\n",
    "\n",
    "    data = list(map(int, input().rstrip().split()))\n",
    "    \n",
    "    res = quartiles(data)\n",
    "\n",
    "    fptr.write('\\n'.join(map(str, res)))\n",
    "    fptr.write('\\n')\n",
    "\n",
    "    fptr.close()\n",
    "    "
   ]
  }
 ],
 "metadata": {
  "kernelspec": {
   "display_name": "Python 3 (ipykernel)",
   "language": "python",
   "name": "python3"
  },
  "language_info": {
   "codemirror_mode": {
    "name": "ipython",
    "version": 3
   },
   "file_extension": ".py",
   "mimetype": "text/x-python",
   "name": "python",
   "nbconvert_exporter": "python",
   "pygments_lexer": "ipython3",
   "version": "3.9.13"
  }
 },
 "nbformat": 4,
 "nbformat_minor": 5
}
